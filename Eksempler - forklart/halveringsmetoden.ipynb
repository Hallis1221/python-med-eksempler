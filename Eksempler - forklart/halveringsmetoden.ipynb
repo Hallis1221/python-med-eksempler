{
 "cells": [
  {
   "cell_type": "markdown",
   "metadata": {},
   "source": [
    "Vi kan starte med å definere en øvre og nedre grense samt nøyaktigheten til programmet. "
   ]
  },
  {
   "cell_type": "code",
   "execution_count": null,
   "metadata": {},
   "outputs": [],
   "source": [
    "nedre_grense = 0.1\n",
    "ovre_grense = 10.1\n",
    "noyaktighet = 0.01"
   ]
  },
  {
   "cell_type": "markdown",
   "metadata": {},
   "source": [
    "Nå kan vi lage en variabel `halv` for å holde styr på halveringen. Den bruker formelen $\\frac{nedre grense + øvre grense}{2}$. Vi ønsker fortsatt å beholde de verdiene for øvre og nedre grense, så vi kopierer verdiene til to nye variabler som vi kan endre uten å endre grensen. Vi kaller disse a og b. "
   ]
  },
  {
   "cell_type": "code",
   "execution_count": null,
   "metadata": {},
   "outputs": [],
   "source": [
    "a = nedre_grense\n",
    "b = ovre_grense\n",
    "\n",
    "halv = (a + b) / 2"
   ]
  },
  {
   "cell_type": "markdown",
   "metadata": {},
   "source": [
    "Nå kan vi lage hoveddelen av programmet. Den skal halvere kjøre så lenge vi ikke har tellt over eller under grensene våre. Vi må holde styr på tellingen, så la oss lage en variabel. \n",
    "\n",
    "Deretter bruker vi en versjon av halveringsmetoden."
   ]
  },
  {
   "cell_type": "code",
   "execution_count": null,
   "metadata": {},
   "outputs": [],
   "source": [
    "telling = 0\n",
    "\n",
    "while telling <= ovre_grense and telling >= nedre_grense:\n",
    "    if f(a) * f(halv) < 0:\n",
    "        b = halv\n",
    "    else:\n",
    "        a = halv\n",
    "    halv = (a + b) / 2\n",
    "    telling = telling + noyaktighet"
   ]
  },
  {
   "cell_type": "markdown",
   "metadata": {},
   "source": [
    "Til slutt gir vi svaret tilbake til brukeren."
   ]
  },
  {
   "cell_type": "code",
   "execution_count": null,
   "metadata": {},
   "outputs": [],
   "source": [
    "print(\"Løsningen til likningen er x =\", halv, \" ved bruk av halveringsmetoden.\")"
   ]
  }
 ],
 "metadata": {
  "language_info": {
   "name": "python"
  },
  "orig_nbformat": 4
 },
 "nbformat": 4,
 "nbformat_minor": 2
}
