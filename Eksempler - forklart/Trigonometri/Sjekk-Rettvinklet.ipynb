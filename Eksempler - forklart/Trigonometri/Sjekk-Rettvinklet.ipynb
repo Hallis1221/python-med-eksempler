{
 "cells": [
  {
   "cell_type": "markdown",
   "metadata": {},
   "source": [
    "Dette programmet skal sjekke om en trekant ABC er rettvinklet. For å gjøre det trenger vi sidene AB, AC og BC. Vi spør om disse fra brukeren."
   ]
  },
  {
   "cell_type": "code",
   "execution_count": 7,
   "metadata": {},
   "outputs": [],
   "source": [
    "AB = float(input(\"Skriv inn den første kateten: (AB)\"))\n",
    "BC = float(input(\"Skriv inn den andre kateten (BC): \"))\n",
    "AC = float(input(\"Skriv inn hypotunusen (AC): \"))"
   ]
  },
  {
   "cell_type": "markdown",
   "metadata": {},
   "source": [
    "Vi kan bruke pytagoras settningen til å sjekke om trekanten er rettvinklet. Dersom $AC^2 = AB^2 + BC^2$ så er trekanten rettvinklet. Vi kunne også ha sjekket om trekanten er en 30,60,90 trekant ved å se om hypotenusen er dobbelt så lang som den korteste kateten."
   ]
  },
  {
   "cell_type": "code",
   "execution_count": 8,
   "metadata": {},
   "outputs": [
    {
     "name": "stdout",
     "output_type": "stream",
     "text": [
      "Trekant ABC er rettvinklet ettersom pytagoras setning fungerer.\n"
     ]
    }
   ],
   "source": [
    "if AC**2 == AB**2 + BC**2:\n",
    "    print(\"Trekant ABC er rettvinklet ettersom pytagoras setning fungerer.\")\n",
    "else:\n",
    "    print(\"Trekant ABC er ikke rettvinklet ettersom pytagoras setning ikke fungerer her.\")"
   ]
  }
 ],
 "metadata": {
  "interpreter": {
   "hash": "b3ba2566441a7c06988d0923437866b63cedc61552a5af99d1f4fb67d367b25f"
  },
  "kernelspec": {
   "display_name": "Python 3.7.6 ('base')",
   "language": "python",
   "name": "python3"
  },
  "language_info": {
   "codemirror_mode": {
    "name": "ipython",
    "version": 3
   },
   "file_extension": ".py",
   "mimetype": "text/x-python",
   "name": "python",
   "nbconvert_exporter": "python",
   "pygments_lexer": "ipython3",
   "version": "3.7.6"
  },
  "orig_nbformat": 4
 },
 "nbformat": 4,
 "nbformat_minor": 2
}
