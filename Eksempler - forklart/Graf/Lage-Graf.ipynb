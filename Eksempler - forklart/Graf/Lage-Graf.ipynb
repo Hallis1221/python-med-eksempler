{
 "cells": [
  {
   "cell_type": "markdown",
   "metadata": {},
   "source": [
    "For å lage en graf trenger vi pylab, så la oss importere det. "
   ]
  },
  {
   "cell_type": "code",
   "execution_count": null,
   "metadata": {},
   "outputs": [
    {
     "ename": "",
     "evalue": "",
     "output_type": "error",
     "traceback": [
      "\u001b[1;31mRunning cells with 'Python 3.9.7 64-bit' requires ipykernel package.\n",
      "Run the following command to install 'ipykernel' into the Python environment. \n",
      "Command: 'C:/Python39/python.exe -m pip install ipykernel -U --user --force-reinstall'"
     ]
    }
   ],
   "source": [
    "from pylab import *"
   ]
  },
  {
   "cell_type": "markdown",
   "metadata": {},
   "source": [
    "Nå må vi definere grafen vi skal tegne. Denne kan vi definere nesten helt likt som vi gjør når vi tegner den i geogebra. Her bruker vi funksjonen $\\frac{3x-6}{6x+4}$"
   ]
  },
  {
   "cell_type": "code",
   "execution_count": null,
   "metadata": {},
   "outputs": [],
   "source": [
    "def f(x):\n",
    "    return (3*x-6)/(6*x+4)"
   ]
  },
  {
   "cell_type": "markdown",
   "metadata": {},
   "source": [
    "Funksjonen linspace gir oss en liste med tall med likt mellomrom. Vi kan bruke dette for å lage en liste på 2000 tall mellom -10  og $-\\frac{2}{3}$. Vi lager også en liste over y verdiene tilsvarende den gitte listen. Det kan vi gjøre bare ved å si f(x_verdier). Det er viktig at vi gjør dette etter `x_verdier =` ettersom vi ønsker å bruke denne variabelen.\n"
   ]
  },
  {
   "cell_type": "code",
   "execution_count": null,
   "metadata": {},
   "outputs": [],
   "source": [
    "x_verdier = linspace(-10, -2/3, 2000)\n",
    "y_verdier = f(x_verdier)"
   ]
  },
  {
   "cell_type": "markdown",
   "metadata": {},
   "source": [
    "Nå trenger vi bare lage figuren med en gitt størelse (figsize) også plotte grafen inn i figuren. Vi kan til og med gi grafen en farge med ```color=\"\" ```!. Vi kan gjøre masse mer med grafene, men det er litt for mye til å gå over her. [Her](https://matplotlib.org/3.5.0/api/pyplot_summary.html) er en full liste over alt du kan gjøre. "
   ]
  },
  {
   "cell_type": "code",
   "execution_count": null,
   "metadata": {},
   "outputs": [],
   "source": [
    "figuren = plt.figure(figsize=(15,10))  \n",
    "plot(x_verdier, f_verdier, color = \"navy\")"
   ]
  }
 ],
 "metadata": {
  "interpreter": {
   "hash": "63fd5069d213b44bf678585dea6b12cceca9941eaf7f819626cde1f2670de90d"
  },
  "kernelspec": {
   "display_name": "Python 3.9.7 64-bit",
   "language": "python",
   "name": "python3"
  },
  "language_info": {
   "name": "python",
   "version": "3.9.7"
  },
  "orig_nbformat": 4
 },
 "nbformat": 4,
 "nbformat_minor": 2
}
