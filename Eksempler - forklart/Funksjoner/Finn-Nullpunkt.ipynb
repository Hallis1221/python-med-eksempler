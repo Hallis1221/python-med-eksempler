{
 "cells": [
  {
   "cell_type": "markdown",
   "metadata": {},
   "source": [
    "Først definerer vi funksjonen vår, det kan vi gjøre (nesten) helt likt som i geogebra! Her så bruker vi funksjonen $2^x$-12. "
   ]
  },
  {
   "cell_type": "code",
   "execution_count": 1,
   "metadata": {},
   "outputs": [],
   "source": [
    "def f(x):\n",
    "    return 2**x-12"
   ]
  },
  {
   "cell_type": "markdown",
   "metadata": {},
   "source": [
    "Dette programmet skal finne nullpunket ved å sjekke alle mulige løsninger. Programmet skal med andre ord \"lete\" etter løsningen. Men, den må ha et sted å starte å lete! La oss starte på 0. Vi kommer til å oppdatere denne verdien, så la oss bare kalle den x. I noen funksjoner kan det hende denne verdien må starte som et negativt tall, ettersom programmet bare kommer til å sjekke tall over x verdien. Vi lager også en variabel for hvor store steg vi tar i letingen for hver gang. Jo mindre denne variabelen er, jo mer nøye er programmet, men det tar også lenger tid. "
   ]
  },
  {
   "cell_type": "code",
   "execution_count": 2,
   "metadata": {},
   "outputs": [],
   "source": [
    "x = 0\n",
    "steg = 0.0001"
   ]
  },
  {
   "cell_type": "markdown",
   "metadata": {},
   "source": [
    "Nå kan vi sette inn hoveddelen av programmet. Vi vet at så lenge f(x)*f(x+steg) er større enn null så er vi fortsatt ikke på null. "
   ]
  },
  {
   "cell_type": "code",
   "execution_count": 3,
   "metadata": {},
   "outputs": [],
   "source": [
    "while f(x)*f(x+steg)>0:\n",
    "    # Her kunne vi også skrevet x = x + steg. += er en enklere måte å legge til tall på.\n",
    "    x += steg"
   ]
  },
  {
   "cell_type": "markdown",
   "metadata": {},
   "source": [
    "Helt til slutt kan vi printe ut svaret..."
   ]
  },
  {
   "cell_type": "code",
   "execution_count": 4,
   "metadata": {},
   "outputs": [
    {
     "name": "stdout",
     "output_type": "stream",
     "text": [
      "Funksjonen blir -0.0005198550969911508 når x = 3.584900000003141 . Det var så nære null jeg kom!\n"
     ]
    }
   ],
   "source": [
    "print(\"Funksjonen blir\", f(x), \"når x =\", x, \". Det var så nære null jeg kom!\")"
   ]
  }
 ],
 "metadata": {
  "interpreter": {
   "hash": "63fd5069d213b44bf678585dea6b12cceca9941eaf7f819626cde1f2670de90d"
  },
  "kernelspec": {
   "display_name": "Python 3.9.7 64-bit",
   "language": "python",
   "name": "python3"
  },
  "language_info": {
   "codemirror_mode": {
    "name": "ipython",
    "version": 3
   },
   "file_extension": ".py",
   "mimetype": "text/x-python",
   "name": "python",
   "nbconvert_exporter": "python",
   "pygments_lexer": "ipython3",
   "version": "3.7.6"
  },
  "orig_nbformat": 4
 },
 "nbformat": 4,
 "nbformat_minor": 2
}
