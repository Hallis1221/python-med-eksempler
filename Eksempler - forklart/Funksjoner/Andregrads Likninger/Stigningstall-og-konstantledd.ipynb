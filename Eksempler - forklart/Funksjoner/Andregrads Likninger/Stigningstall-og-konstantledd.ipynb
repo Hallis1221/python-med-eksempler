{
 "cells": [
  {
   "cell_type": "markdown",
   "metadata": {},
   "source": [
    "For å finne stigningstallet og konstantleddet mellom to punkter på en graf trenger vi bare å vite de to punktene. For å gjøre det enkelt så spør vi bare etter den første x verdien, den første y verdien og så videre. "
   ]
  },
  {
   "cell_type": "code",
   "execution_count": 1,
   "metadata": {},
   "outputs": [],
   "source": [
    "x1 = float(input(\"Skriv inn x1: \"))\n",
    "y1 = float(input(\"Skriv inn y1: \"))\n",
    "x2 = float(input(\"Skriv inn x2: \"))\n",
    "y2 = float(input(\"Skriv inn y2: \"))"
   ]
  },
  {
   "cell_type": "markdown",
   "metadata": {},
   "source": [
    "For å finne stigningstallet trenger vi bare dele forskjellen mellom de to y verdiene på forskjellen mellom de to x verdiene. Du er kanskje vant til å se denne funksjonen som $\\frac{f(x2)-f(x1)}{x2-x1}$"
   ]
  },
  {
   "cell_type": "code",
   "execution_count": 2,
   "metadata": {},
   "outputs": [],
   "source": [
    "stigningstall = ((y2-y1)/(x2-x1))"
   ]
  },
  {
   "cell_type": "markdown",
   "metadata": {},
   "source": [
    "For å finne konstantleddet trenger vi bare å ta $y1$ minus stigningstallet ganget med x1. "
   ]
  },
  {
   "cell_type": "code",
   "execution_count": 3,
   "metadata": {},
   "outputs": [],
   "source": [
    "konstantledd = (y1-(stigningstall*x1))"
   ]
  },
  {
   "cell_type": "markdown",
   "metadata": {},
   "source": [
    "Til slutt kan vi gi svarene til brukeren. Vi må huske å gjøre om tallene til tekst for å printe de!"
   ]
  },
  {
   "cell_type": "code",
   "execution_count": 4,
   "metadata": {},
   "outputs": [
    {
     "name": "stdout",
     "output_type": "stream",
     "text": [
      "Stigningstallet er: 1.0\n",
      "Konstantleddet er: 1.0\n"
     ]
    }
   ],
   "source": [
    "print(\"Stigningstallet er: \" + str(stigningstall))\n",
    "print(\"Konstantleddet er: \" + str(konstantledd))"
   ]
  }
 ],
 "metadata": {
  "interpreter": {
   "hash": "b3ba2566441a7c06988d0923437866b63cedc61552a5af99d1f4fb67d367b25f"
  },
  "kernelspec": {
   "display_name": "Python 3.7.6 ('base')",
   "language": "python",
   "name": "python3"
  },
  "language_info": {
   "codemirror_mode": {
    "name": "ipython",
    "version": 3
   },
   "file_extension": ".py",
   "mimetype": "text/x-python",
   "name": "python",
   "nbconvert_exporter": "python",
   "pygments_lexer": "ipython3",
   "version": "3.7.6"
  },
  "orig_nbformat": 4
 },
 "nbformat": 4,
 "nbformat_minor": 2
}
