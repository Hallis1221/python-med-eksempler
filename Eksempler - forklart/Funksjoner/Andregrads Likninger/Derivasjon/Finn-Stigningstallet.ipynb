{
 "cells": [
  {
   "cell_type": "markdown",
   "metadata": {},
   "source": [
    "Først må vi få vite a og b leddet i funksjonen. Vi bruker float() rundt input() for å gjøre om det brukeren skriver til et tall. C er irrelevant ettersom vi kun deriverer x ledd. (bare x ledd beskriver stigning). Dette programmet funker bare for andregrads funksjoner."
   ]
  },
  {
   "cell_type": "code",
   "execution_count": 14,
   "metadata": {},
   "outputs": [],
   "source": [
    "a = float(input(\"A leddet i 2. gradsfunksjonen: \"))\n",
    "b = float(input(\"B leddet i 2. gradsfunksjonen: \"))"
   ]
  },
  {
   "cell_type": "markdown",
   "metadata": {},
   "source": [
    "For å derivere a må vi ta a*2. $x^2$ derivert = 2x."
   ]
  },
  {
   "cell_type": "code",
   "execution_count": 15,
   "metadata": {},
   "outputs": [],
   "source": [
    "a_derivert = a*2"
   ]
  },
  {
   "cell_type": "markdown",
   "metadata": {},
   "source": [
    "Nå kan vi printe ut funksjonen for derviasjonslinjen. Vi kunne sjekket om b er negativt og da endret fortegnet foran b for å gjøre alt finere, men la oss holde det enkelt. "
   ]
  },
  {
   "cell_type": "code",
   "execution_count": 16,
   "metadata": {},
   "outputs": [
    {
     "name": "stdout",
     "output_type": "stream",
     "text": [
      "Funksjonen for derivasjonslinjen er: 2.0x + 2.0\n"
     ]
    }
   ],
   "source": [
    "print(\"Funksjonen for derivasjonslinjen er: \" + str(a_derivert) + \"x + \" + str(b))"
   ]
  },
  {
   "cell_type": "markdown",
   "metadata": {},
   "source": [
    "Nå kan vi bruke derivasjon til å finne stigningstallet til en x verdi! Først må vi finne ut hvilken x verdi vi vil finne ut stigningstallet for."
   ]
  },
  {
   "cell_type": "code",
   "execution_count": 17,
   "metadata": {},
   "outputs": [
    {
     "name": "stdout",
     "output_type": "stream",
     "text": [
      "Stigningstall for x = 5 er: 5.0\n"
     ]
    }
   ],
   "source": [
    "x = input(\"Skriv inn hvilken x-verdi du ønsker å vite stigningstall for: \")\n",
    "print(\"Stigningstall for x = \" + x + \" er: \" + str(float(a)*float(x)))"
   ]
  }
 ],
 "metadata": {
  "interpreter": {
   "hash": "b3ba2566441a7c06988d0923437866b63cedc61552a5af99d1f4fb67d367b25f"
  },
  "kernelspec": {
   "display_name": "Python 3.7.6 ('base')",
   "language": "python",
   "name": "python3"
  },
  "language_info": {
   "codemirror_mode": {
    "name": "ipython",
    "version": 3
   },
   "file_extension": ".py",
   "mimetype": "text/x-python",
   "name": "python",
   "nbconvert_exporter": "python",
   "pygments_lexer": "ipython3",
   "version": "3.7.6"
  },
  "orig_nbformat": 4
 },
 "nbformat": 4,
 "nbformat_minor": 2
}
