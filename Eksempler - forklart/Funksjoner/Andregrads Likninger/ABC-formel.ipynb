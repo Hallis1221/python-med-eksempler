{
 "cells": [
  {
   "cell_type": "markdown",
   "metadata": {},
   "source": [
    "Vi starter med å importere \"sqrt\" (square root) fra pylab ettersom vi ønsker å bruke dette som en del av programmet. Vi kunne også importert alt ved å bruke en *"
   ]
  },
  {
   "cell_type": "code",
   "execution_count": 6,
   "metadata": {},
   "outputs": [],
   "source": [
    "from pylab import *"
   ]
  },
  {
   "cell_type": "markdown",
   "metadata": {},
   "source": [
    "For å skulle regne ut ABC formelen trenger vi å vite tre variabler; A, B & C. Vi spør derfor brukeren om å skrive inn hver av disse og lagrer det til en variabel. For å gjøre dette kan vi skrive variabel = input(). Hvis vi vil kan vi skrive litt tekst inne i parentesene til input for å gjøre programmet lettere å bruke."
   ]
  },
  {
   "cell_type": "code",
   "execution_count": 7,
   "metadata": {},
   "outputs": [],
   "source": [
    "a = float(input(\"Skriv inn A: \"))\n",
    "b = float(input(\"Skriv inn B: \"))\n",
    "c = float(input(\"Skriv inn C: \"))"
   ]
  },
  {
   "cell_type": "markdown",
   "metadata": {},
   "source": [
    "Vi vet at dersom $b^2$-4*a\\*c blir mindre enn null så har ikke likningen noen løsninger. Vi kan bruke dette for å sjekke om likningen er løsbar. Vi kan avslutte programmet med å si ```exit()```"
   ]
  },
  {
   "cell_type": "code",
   "execution_count": 8,
   "metadata": {},
   "outputs": [
    {
     "name": "stdout",
     "output_type": "stream",
     "text": [
      "Sjekker formelen...\n",
      "Likningen har ikke løsninger D:\n"
     ]
    }
   ],
   "source": [
    "print(\"Sjekker formelen...\")\n",
    "\n",
    "losbar = b**2-4*a*c\n",
    "\n",
    "if losbar < 0:\n",
    "    print(\"Likningen har ikke løsninger D:\")\n",
    "    exit()\n"
   ]
  },
  {
   "cell_type": "markdown",
   "metadata": {},
   "source": [
    "Nå kan vi bruke ABC formelen for å sjekke løsningen!"
   ]
  },
  {
   "cell_type": "code",
   "execution_count": null,
   "metadata": {},
   "outputs": [],
   "source": [
    "losningEn = (-b + sqrt(losbar))/(2*a)\n",
    "losningTo = (-b - sqrt(losbar))/(2*a)"
   ]
  },
  {
   "cell_type": "markdown",
   "metadata": {},
   "source": [
    "Dersom de to løsningene er helt like så har vi bare en løsning. Ellers så har vi to!"
   ]
  },
  {
   "cell_type": "code",
   "execution_count": null,
   "metadata": {},
   "outputs": [
    {
     "name": "stdout",
     "output_type": "stream",
     "text": [
      "Vi har to løsninger: nan og nan . De er glade sammen :D\n"
     ]
    }
   ],
   "source": [
    "if losningEn == losningTo:\n",
    "    print(\"Vi har bare en løsning:\", losningEn, \". Den er ensom :/\")\n",
    "else:\n",
    "    print(\"Vi har to løsninger:\", losningEn, \"og\", losningTo, \". De er glade sammen :D\")"
   ]
  }
 ],
 "metadata": {
  "interpreter": {
   "hash": "b3ba2566441a7c06988d0923437866b63cedc61552a5af99d1f4fb67d367b25f"
  },
  "kernelspec": {
   "display_name": "Python 3.7.6 ('base')",
   "language": "python",
   "name": "python3"
  },
  "language_info": {
   "codemirror_mode": {
    "name": "ipython",
    "version": 3
   },
   "file_extension": ".py",
   "mimetype": "text/x-python",
   "name": "python",
   "nbconvert_exporter": "python",
   "pygments_lexer": "ipython3",
   "version": "3.7.6"
  },
  "orig_nbformat": 4
 },
 "nbformat": 4,
 "nbformat_minor": 2
}
