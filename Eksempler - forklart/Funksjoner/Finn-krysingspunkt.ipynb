{
 "cells": [
  {
   "cell_type": "markdown",
   "metadata": {},
   "source": [
    "Først definerer vi begge funksjonen våre, det kan vi gjøre (nesten) helt likt som i geogebra! Her så bruker vi funksjonene $2^x$-12 og 4*x+1. "
   ]
  },
  {
   "cell_type": "code",
   "execution_count": 1,
   "metadata": {},
   "outputs": [],
   "source": [
    "def h(x):\n",
    "    return 4*x+1\n",
    "\n",
    "def f(x):\n",
    "    return 2**x-12\n"
   ]
  },
  {
   "cell_type": "markdown",
   "metadata": {},
   "source": [
    "For å finne krysningspunktet mellom f og h må vi ta f(x)-h(x). Vi lagrer dette i en funksjon g(x)"
   ]
  },
  {
   "cell_type": "code",
   "execution_count": 2,
   "metadata": {},
   "outputs": [],
   "source": [
    "def g(x):\n",
    "    return f(x)-h(x)"
   ]
  },
  {
   "cell_type": "markdown",
   "metadata": {},
   "source": [
    "Dette programmet skal finne krysingspunktet ved å sjekke alle mulige løsninger. Programmet skal med andre ord \"lete\" etter løsningen. Men, den må ha et sted å starte å lete! La oss starte på 0. Vi kommer til å oppdatere denne verdien, så la oss bare kalle den x. I noen funksjoner kan det hende denne verdien må starte som et negativt tall, ettersom programmet bare kommer til å sjekke tall over x verdien. Vi lager også en variabel for hvor store steg vi tar i letingen for hver gang. Jo mindre denne variabelen er, jo mer nøye er programmet, men det tar også lenger tid. "
   ]
  },
  {
   "cell_type": "code",
   "execution_count": 3,
   "metadata": {},
   "outputs": [],
   "source": [
    "x = 0\n",
    "steg = 0.0001"
   ]
  },
  {
   "cell_type": "markdown",
   "metadata": {},
   "source": [
    "Nå kan vi sette inn hoveddelen av programmet. Vi vet at så lenge g(x)*g(x+steg) er større enn null så er vi fortsatt ikke på krysningspunktet. For at funksjonen ikke skal kjøre for evig så legger vi også inn en sjakk for om x er større enn ti. "
   ]
  },
  {
   "cell_type": "code",
   "execution_count": 4,
   "metadata": {},
   "outputs": [],
   "source": [
    "while g(x)*g(x+steg)>0 or x >= 10:\n",
    "    # Her kunne vi også skrevet x = x + steg. += er en enklere måte å legge til tall på.\n",
    "    x += steg"
   ]
  },
  {
   "cell_type": "markdown",
   "metadata": {},
   "source": [
    "Helt til slutt kan vi printe ut svaret..."
   ]
  },
  {
   "cell_type": "code",
   "execution_count": 5,
   "metadata": {},
   "outputs": [
    {
     "name": "stdout",
     "output_type": "stream",
     "text": [
      "Funksjonene har en forskjell på  -0.0012506241638732263 når x = 5.053700000001561 . Det var så nærme jeg kom!\n"
     ]
    }
   ],
   "source": [
    "print(\"Funksjonene har en forskjell på \", g(x), \"når x =\", x, \". Det var så nærme jeg kom!\")"
   ]
  }
 ],
 "metadata": {
  "interpreter": {
   "hash": "b3ba2566441a7c06988d0923437866b63cedc61552a5af99d1f4fb67d367b25f"
  },
  "kernelspec": {
   "display_name": "Python 3.7.6 ('base')",
   "language": "python",
   "name": "python3"
  },
  "language_info": {
   "codemirror_mode": {
    "name": "ipython",
    "version": 3
   },
   "file_extension": ".py",
   "mimetype": "text/x-python",
   "name": "python",
   "nbconvert_exporter": "python",
   "pygments_lexer": "ipython3",
   "version": "3.7.6"
  },
  "orig_nbformat": 4
 },
 "nbformat": 4,
 "nbformat_minor": 2
}
